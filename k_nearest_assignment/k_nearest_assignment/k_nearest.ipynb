{
 "cells": [
  {
   "cell_type": "code",
   "execution_count": 48,
   "metadata": {},
   "outputs": [],
   "source": [
    "#import liberaries and dataset\n",
    "\n",
    "import pandas as pd\n",
    "\n",
    "df=pd.read_csv('mldata.csv')\n",
    "df[\"gender\"]=df[\"gender\"].replace(\"Male\", 1)\n",
    "\n",
    "df[\"gender\"]=df[\"gender\"].replace(\"Female\", 0)"
   ]
  },
  {
   "cell_type": "code",
   "execution_count": 49,
   "metadata": {},
   "outputs": [],
   "source": [
    "# Selection of Input and Output variables\n",
    "\n",
    "x=df[[\"weight\", \"gender\"]]\n",
    "y=df[\"likness\"]\n"
   ]
  },
  {
   "cell_type": "code",
   "execution_count": 50,
   "metadata": {},
   "outputs": [
    {
     "name": "stderr",
     "output_type": "stream",
     "text": [
      "C:\\Users\\Rasheed\\AppData\\Local\\Programs\\Python\\Python310\\lib\\site-packages\\sklearn\\base.py:450: UserWarning: X does not have valid feature names, but KNeighborsClassifier was fitted with feature names\n",
      "  warnings.warn(\n"
     ]
    },
    {
     "data": {
      "text/plain": [
       "array(['Biryani'], dtype=object)"
      ]
     },
     "execution_count": 50,
     "metadata": {},
     "output_type": "execute_result"
    }
   ],
   "source": [
    "# Model and prediction\n",
    "\n",
    "from sklearn.neighbors import KNeighborsClassifier\n",
    "model=KNeighborsClassifier(n_neighbors=3)\n",
    "\n",
    "# Train the model using the training sets\n",
    "model.fit(x,y)\n",
    "\n",
    "#Predict the output\n",
    "predicted=model.predict([[40,1]])\n",
    "predicted\n"
   ]
  },
  {
   "cell_type": "code",
   "execution_count": 51,
   "metadata": {},
   "outputs": [
    {
     "data": {
      "text/plain": [
       "array(['Biryani', 'Biryani', 'Biryani', 'Biryani', 'Biryani', 'Biryani',\n",
       "       'Pakora', 'Biryani', 'Biryani', 'Biryani', 'Pakora', 'Samosa',\n",
       "       'Samosa', 'Biryani', 'Biryani', 'Samosa', 'Biryani', 'Samosa',\n",
       "       'Biryani', 'Biryani', 'Biryani', 'Biryani', 'Biryani', 'Biryani',\n",
       "       'Biryani', 'Biryani', 'Pakora', 'Biryani', 'Biryani', 'Biryani',\n",
       "       'Pakora', 'Samosa', 'Samosa', 'Biryani', 'Biryani', 'Samosa',\n",
       "       'Biryani', 'Samosa', 'Biryani', 'Biryani'], dtype=object)"
      ]
     },
     "execution_count": 51,
     "metadata": {},
     "output_type": "execute_result"
    }
   ],
   "source": [
    "predicted=model.predict(x)\n",
    "predicted"
   ]
  },
  {
   "cell_type": "code",
   "execution_count": 52,
   "metadata": {},
   "outputs": [
    {
     "name": "stdout",
     "output_type": "stream",
     "text": [
      "The accuracy of the model is = 0.875\n"
     ]
    }
   ],
   "source": [
    "# Matrices for Evaluation\n",
    "# Split data into train and test data set\n",
    "from sklearn.model_selection import train_test_split\n",
    "from sklearn.metrics import accuracy_score\n",
    "\n",
    "x_train, x_test, y_train, y_test=train_test_split(x,y, test_size= 0.2)\n",
    "model.fit(x_train, y_train)\n",
    "\n",
    "predicted_values= model.predict(x_test)\n",
    "predicted_values\n",
    "\n",
    "#Checking accuracy\n",
    "# y_test=actual values\n",
    "\n",
    "score=accuracy_score(y_test, predicted_values)\n",
    "print(\"The accuracy of the model is =\", score)\n"
   ]
  },
  {
   "cell_type": "markdown",
   "metadata": {},
   "source": [
    "### Assignement: In what condition these matrices (precision_score, recall_score, f1_score) can be used?"
   ]
  },
  {
   "cell_type": "markdown",
   "metadata": {},
   "source": [
    "Answer: There are numerous types of matrices for evaluation of accuracy. \n",
    "\n",
    " * **Accuracy_Score:** \n",
    "     It is used for evaluation of classification problems which are balanced and not skewed\n",
    " * **Recall_Score:**\n",
    "     It is used for evaluation of accuracy if we are interested in finding as many desired outcomes as possible.\n",
    " * **F1_Score:**\n",
    "     It is used when we want both good precision and recall\n",
    "\n",
    " * **Precision_Score:**\n",
    "     It is used if we are sure about our prediction. For example, if we don't provide quality food to our customers, then it is sured that the customers will not be happy with us.\n",
    "\n",
    "**These Matrices are applied in this problem below**\n"
   ]
  },
  {
   "cell_type": "code",
   "execution_count": 53,
   "metadata": {},
   "outputs": [
    {
     "name": "stdout",
     "output_type": "stream",
     "text": [
      "The accuracy of the model is = 0.625\n"
     ]
    }
   ],
   "source": [
    "# Matrices for Evaluation\n",
    "# Split data into train and test data set\n",
    "from sklearn.model_selection import train_test_split\n",
    "from sklearn.metrics import precision_score\n",
    "\n",
    "x_train, x_test, y_train, y_test=train_test_split(x,y, test_size= 0.2)\n",
    "model.fit(x_train, y_train)\n",
    "\n",
    "predicted_values= model.predict(x_test)\n",
    "predicted_values\n",
    "\n",
    "#Checking accuracy\n",
    "# y_test=actual values\n",
    "\n",
    "score=accuracy_score(y_test, predicted_values)\n",
    "print(\"The accuracy of the model is =\", score)\n"
   ]
  },
  {
   "cell_type": "code",
   "execution_count": 54,
   "metadata": {},
   "outputs": [
    {
     "name": "stdout",
     "output_type": "stream",
     "text": [
      "The accuracy of the model is = 0.375\n"
     ]
    }
   ],
   "source": [
    "# Matrices for Evaluation\n",
    "# Split data into train and test data set\n",
    "from sklearn.model_selection import train_test_split\n",
    "from sklearn.metrics import recall_score\n",
    "\n",
    "x_train, x_test, y_train, y_test=train_test_split(x,y, test_size= 0.2)\n",
    "model.fit(x_train, y_train)\n",
    "\n",
    "predicted_values= model.predict(x_test)\n",
    "predicted_values\n",
    "\n",
    "#Checking accuracy\n",
    "# y_test=actual values\n",
    "\n",
    "score=accuracy_score(y_test, predicted_values)\n",
    "print(\"The accuracy of the model is =\", score)\n"
   ]
  },
  {
   "cell_type": "code",
   "execution_count": 55,
   "metadata": {},
   "outputs": [
    {
     "name": "stdout",
     "output_type": "stream",
     "text": [
      "The accuracy of the model is = 0.375\n"
     ]
    }
   ],
   "source": [
    "# Matrices for Evaluation\n",
    "# Split data into train and test data set\n",
    "from sklearn.model_selection import train_test_split\n",
    "from sklearn.metrics import f1_score\n",
    "\n",
    "x_train, x_test, y_train, y_test=train_test_split(x,y, test_size= 0.2)\n",
    "model.fit(x_train, y_train)\n",
    "\n",
    "predicted_values= model.predict(x_test)\n",
    "predicted_values\n",
    "\n",
    "#Checking accuracy\n",
    "# y_test=actual values\n",
    "\n",
    "score=accuracy_score(y_test, predicted_values)\n",
    "print(\"The accuracy of the model is =\", score)\n"
   ]
  },
  {
   "cell_type": "code",
   "execution_count": null,
   "metadata": {},
   "outputs": [],
   "source": []
  }
 ],
 "metadata": {
  "interpreter": {
   "hash": "8b64a43b35fd3b12e5a8437af246b6bb27bc8f8e0d495343acbee5a7fae2275b"
  },
  "kernelspec": {
   "display_name": "Python 3.10.1 64-bit",
   "language": "python",
   "name": "python3"
  },
  "language_info": {
   "codemirror_mode": {
    "name": "ipython",
    "version": 3
   },
   "file_extension": ".py",
   "mimetype": "text/x-python",
   "name": "python",
   "nbconvert_exporter": "python",
   "pygments_lexer": "ipython3",
   "version": "3.10.1"
  },
  "orig_nbformat": 4
 },
 "nbformat": 4,
 "nbformat_minor": 2
}
