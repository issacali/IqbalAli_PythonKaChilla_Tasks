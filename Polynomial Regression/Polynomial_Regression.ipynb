{
 "cells": [
  {
   "cell_type": "code",
   "execution_count": 7,
   "metadata": {},
   "outputs": [
    {
     "data": {
      "image/png": "[encoded data removed]",
      "text/plain": [
       "<Figure size 432x288 with 1 Axes>"
      ]
     },
     "metadata": {
      "needs_background": "light"
     },
     "output_type": "display_data"
    }
   ],
   "source": [
    "#Bad Fit\n",
    "import pandas as pd \n",
    "import numpy as np \n",
    "import matplotlib.pyplot as plt\n",
    "x = [50,40,54,36,21,78,94,11,22,60,32,12,41,31]\n",
    "y = [32,12,41,31,81,74,34,51,32,40,54,36,21,44]\n",
    "mymodel = np.poly1d(np.polyfit(x,y,3))\n",
    "myline=np.linspace(10,95,100)\n",
    "plt.scatter(x,y)\n",
    "plt.plot(myline,mymodel(myline))\n",
    "plt.show()\n"
   ]
  },
  {
   "cell_type": "code",
   "execution_count": 10,
   "metadata": {},
   "outputs": [
    {
     "name": "stdout",
     "output_type": "stream",
     "text": [
      "0.009952707566680652\n"
     ]
    }
   ],
   "source": [
    "# R-squared for bad fit\n",
    "import numpy as np  \n",
    "from sklearn.metrics import r2_score\n",
    "\n",
    "x=[89,43,36,36,95,10,66,34,38,20,26,29,48,64,6,5,36,66,72,40]\n",
    "y=[21,46,3,35,67,95,53,72,58,10,26,34,90,33,38,20,56,2,47,15]\n",
    "\n",
    "model=np.poly1d(np.polyfit(x,y, 3))\n",
    "print(r2_score(y, model(x)))"
   ]
  },
  {
   "cell_type": "code",
   "execution_count": 12,
   "metadata": {},
   "outputs": [
    {
     "data": {
      "image/png": "[encoded data removed]",
      "text/plain": [
       "<Figure size 432x288 with 1 Axes>"
      ]
     },
     "metadata": {
      "needs_background": "light"
     },
     "output_type": "display_data"
    }
   ],
   "source": [
    "# Step-1: Data\n",
    "\n",
    "# Bad fit\n",
    "import matplotlib.pyplot as plt\n",
    "\n",
    "x=[1,2,3,4,5,6,7,8,9,10,11,12,13,14,15,16,18,19,17,22]\n",
    "y=[100,90,80,60,55,60,65,70,70,75,76,78,79,90,99,99,100,55,56,60]\n",
    "\n",
    "plt.scatter(x,y, color=\"Blue\")\n",
    "\n",
    "plt.show()"
   ]
  },
  {
   "cell_type": "code",
   "execution_count": 13,
   "metadata": {},
   "outputs": [
    {
     "name": "stdout",
     "output_type": "stream",
     "text": [
      "0.473624358788272\n"
     ]
    },
    {
     "data": {
      "image/png": "[encoded data removed]",
      "text/plain": [
       "<Figure size 432x288 with 1 Axes>"
      ]
     },
     "metadata": {
      "needs_background": "light"
     },
     "output_type": "display_data"
    }
   ],
   "source": [
    "# Step-2: Draw the line\n",
    "import numpy as np\n",
    "import matplotlib.pyplot as plt\n",
    "\n",
    "x=[1,2,3,4,5,6,7,8,9,10,11,12,13,14,15,16,18,19,17,22]\n",
    "y=[100,90,80,60,55,60,65,70,70,75,76,78,79,90,99,99,100,55,56,60]\n",
    "\n",
    "mymodel=np.poly1d(np.polyfit(x,y, 3))\n",
    "myline=np.linspace(1, 22,150) # Here 80 shows that from 1 to 22, the data will be equally divided into 100 parts\n",
    "\n",
    "plt.scatter(x,y, color=\"red\")\n",
    "plt.plot(myline, mymodel(myline))\n",
    "print(r2_score(y, mymodel(x)))\n",
    "plt.show()"
   ]
  },
  {
   "cell_type": "code",
   "execution_count": 14,
   "metadata": {},
   "outputs": [
    {
     "name": "stdout",
     "output_type": "stream",
     "text": [
      "0.473624358788272\n"
     ]
    }
   ],
   "source": [
    "# Step 3 Rsquared \n",
    "x=[1,2,3,4,5,6,7,8,9,10,11,12,13,14,15,16,18,19,17,22]\n",
    "y=[100,90,80,60,55,60,65,70,70,75,76,78,79,90,99,99,100,55,56,60]\n",
    "\n",
    "mymodel=np.poly1d(np.polyfit(x,y, 3))\n",
    "print(r2_score(y,mymodel(x)))\n"
   ]
  },
  {
   "cell_type": "code",
   "execution_count": 20,
   "metadata": {},
   "outputs": [
    {
     "name": "stdout",
     "output_type": "stream",
     "text": [
      "70.91285643147759\n"
     ]
    }
   ],
   "source": [
    "# Prediction\n",
    "x=[1,2,3,4,5,6,7,8,9,10,11,12,13,14,15,16,18,19,17,22]\n",
    "y=[100,90,80,60,55,60,65,70,70,75,76,78,79,90,99,99,100,55,56,60]\n",
    "mymodel=np.poly1d(np.polyfit(x,y,3))\n",
    "speed= mymodel(10)\n",
    "print(speed)"
   ]
  },
  {
   "cell_type": "code",
   "execution_count": 24,
   "metadata": {},
   "outputs": [],
   "source": [
    "# Importing the liberaries\n",
    "import numpy as np  \n",
    "import matplotlib.pyplot as plt \n",
    "import pandas as pd\n",
    "\n",
    "# Importing the data\n",
    "\n",
    "df=pd.read_csv('position_salaries.csv')\n",
    "X= dataset.iloc[:, 1:2].values\n",
    "y=dataset.iloc[:, 2].values"
   ]
  },
  {
   "cell_type": "code",
   "execution_count": 25,
   "metadata": {},
   "outputs": [
    {
     "data": {
      "text/html": [
       "<div>\n",
       "<style scoped>\n",
       "    .dataframe tbody tr th:only-of-type {\n",
       "        vertical-align: middle;\n",
       "    }\n",
       "\n",
       "    .dataframe tbody tr th {\n",
       "        vertical-align: top;\n",
       "    }\n",
       "\n",
       "    .dataframe thead th {\n",
       "        text-align: right;\n",
       "    }\n",
       "</style>\n",
       "<table border=\"1\" class=\"dataframe\">\n",
       "  <thead>\n",
       "    <tr style=\"text-align: right;\">\n",
       "      <th></th>\n",
       "      <th>Position</th>\n",
       "      <th>Level</th>\n",
       "      <th>Salary</th>\n",
       "    </tr>\n",
       "  </thead>\n",
       "  <tbody>\n",
       "    <tr>\n",
       "      <th>0</th>\n",
       "      <td>Business Analyst</td>\n",
       "      <td>1</td>\n",
       "      <td>45000</td>\n",
       "    </tr>\n",
       "    <tr>\n",
       "      <th>1</th>\n",
       "      <td>Junior Consultant</td>\n",
       "      <td>2</td>\n",
       "      <td>50000</td>\n",
       "    </tr>\n",
       "    <tr>\n",
       "      <th>2</th>\n",
       "      <td>Senior Consultant</td>\n",
       "      <td>3</td>\n",
       "      <td>60000</td>\n",
       "    </tr>\n",
       "    <tr>\n",
       "      <th>3</th>\n",
       "      <td>Manager</td>\n",
       "      <td>4</td>\n",
       "      <td>80000</td>\n",
       "    </tr>\n",
       "    <tr>\n",
       "      <th>4</th>\n",
       "      <td>Country Manager</td>\n",
       "      <td>5</td>\n",
       "      <td>110000</td>\n",
       "    </tr>\n",
       "  </tbody>\n",
       "</table>\n",
       "</div>"
      ],
      "text/plain": [
       "            Position  Level  Salary\n",
       "0   Business Analyst      1   45000\n",
       "1  Junior Consultant      2   50000\n",
       "2  Senior Consultant      3   60000\n",
       "3            Manager      4   80000\n",
       "4    Country Manager      5  110000"
      ]
     },
     "execution_count": 25,
     "metadata": {},
     "output_type": "execute_result"
    }
   ],
   "source": [
    " df.head()"
   ]
  },
  {
   "cell_type": "code",
   "execution_count": 26,
   "metadata": {},
   "outputs": [],
   "source": [
    "# Splitting the dataset into feature and output set\n",
    "\n",
    "from sklearn.model_selection import train_test_split\n",
    "\n",
    "X_train, X_test, y_train, y_test=train_test_split(X, y, test_size=0.2, random_state=0)"
   ]
  },
  {
   "cell_type": "code",
   "execution_count": 27,
   "metadata": {},
   "outputs": [
    {
     "data": {
      "image/png": "[encoded data removed]",
      "text/plain": [
       "<Figure size 432x288 with 1 Axes>"
      ]
     },
     "metadata": {
      "needs_background": "light"
     },
     "output_type": "display_data"
    }
   ],
   "source": [
    "\n",
    "\n",
    "# Fitting Linear Regression line to the dataset\n",
    "\n",
    "from sklearn.linear_model import LinearRegression\n",
    "\n",
    "lin_reg= LinearRegression().fit(X, y)\n",
    "\n",
    "# Visualizing the Linear Regression Results\n",
    "\n",
    "def viz_linear():\n",
    "    plt.scatter(X, y, color='red')\n",
    "    plt.plot(X, lin_reg.predict(X), color='blue')\n",
    "    plt.title(\"Truth or Bluff (Linear Regression\")\n",
    "    plt.xlabel(\"Position Level\")\n",
    "    plt.ylabel('Salary')\n",
    "    plt.show()\n",
    "    return\n",
    "viz_linear()\n",
    "\n"
   ]
  },
  {
   "cell_type": "code",
   "execution_count": 28,
   "metadata": {},
   "outputs": [
    {
     "data": {
      "image/png": "[encoded data removed]",
      "text/plain": [
       "<Figure size 432x288 with 1 Axes>"
      ]
     },
     "metadata": {
      "needs_background": "light"
     },
     "output_type": "display_data"
    }
   ],
   "source": [
    "\n",
    "\n",
    "# Fitting Polynomial Regression to the same dataset\n",
    "\n",
    "from sklearn.preprocessing import PolynomialFeatures\n",
    "\n",
    "\n",
    "poly_reg= PolynomialFeatures(degree=36)\n",
    "X_poly= poly_reg.fit_transform(X)\n",
    "pol_reg=LinearRegression()\n",
    "pol_reg.fit(X_poly, y)\n",
    "\n",
    "# Visualizing the Linear Regression Results\n",
    "\n",
    "def viz_polynomial():\n",
    "    plt.scatter(X, y, color='red')\n",
    "    plt.plot(X, pol_reg.predict(poly_reg.fit_transform(X)), color='blue')\n",
    "    plt.title(\"Truth or Bluff (Linear Regression\")\n",
    "    plt.xlabel(\"Position Level\")\n",
    "    plt.ylabel('Salary')\n",
    "    plt.show()\n",
    "    return\n",
    "viz_polynomial()\n",
    "\n"
   ]
  },
  {
   "cell_type": "code",
   "execution_count": 29,
   "metadata": {},
   "outputs": [],
   "source": [
    "\n",
    "\n",
    "# Predicting a new result with Linear Regression\n",
    "pred_linear=lin_reg.predict([[10]])\n",
    "\n"
   ]
  },
  {
   "cell_type": "code",
   "execution_count": 32,
   "metadata": {},
   "outputs": [],
   "source": [
    "# Predicting a new result with POlynomial Regression\n",
    "pred_polynomial=pol_reg.predict(poly_reg.fit_transform([[10]]))"
   ]
  },
  {
   "cell_type": "code",
   "execution_count": 33,
   "metadata": {},
   "outputs": [
    {
     "name": "stdout",
     "output_type": "stream",
     "text": [
      " Linear Regression Result        = [613454.54545455]\n",
      " Polynomial Regression Result    = [999999.8515625]\n",
      "The difference is                = [-386545.30610795]\n"
     ]
    }
   ],
   "source": [
    "\n",
    "\n",
    "print(\" Linear Regression Result        =\", pred_linear)\n",
    "print(\" Polynomial Regression Result    =\", pred_polynomial)\n",
    "\n",
    "print(\"The difference is                =\", pred_linear-pred_polynomial)\n",
    "\n"
   ]
  },
  {
   "cell_type": "code",
   "execution_count": null,
   "metadata": {},
   "outputs": [],
   "source": []
  }
 ],
 "metadata": {
  "interpreter": {
   "hash": "0a02ee646c8ad2dd595e5341b6f477eb50ac789689ed638f7c72990585c4481e"
  },
  "kernelspec": {
   "display_name": "Python 3.8.9 64-bit",
   "language": "python",
   "name": "python3"
  },
  "language_info": {
   "codemirror_mode": {
    "name": "ipython",
    "version": 3
   },
   "file_extension": ".py",
   "mimetype": "text/x-python",
   "name": "python",
   "nbconvert_exporter": "python",
   "pygments_lexer": "ipython3",
   "version": "3.8.9"
  },
  "orig_nbformat": 4
 },
 "nbformat": 4,
 "nbformat_minor": 2
}
