{
 "cells": [
  {
   "cell_type": "markdown",
   "metadata": {},
   "source": []
  },
  {
   "cell_type": "markdown",
   "metadata": {},
   "source": [
    "# performing shapiro test\n",
    "> step1\n",
    "\n",
    "- import scipy.stat library\n",
    "- import shapiro from scipy\n",
    "\n",
    "> step 2\n",
    "\n",
    "* create a data set\n",
    "  \n",
    "\n",
    "> step 3\n",
    "\n",
    "perform shapiro\n",
    "\n",
    "\n",
    "\n",
    "<span style =\"color:green\"> stat,p=shapiro(data) <span>\n",
    " \n",
    " ```\n",
    " after getting P value if p value is greator than 0.5 then data is NORMAL\n",
    " else data will be Not Normal\n",
    "\n",
    " ```\n",
    "\n",
    "\n",
    "- [] Apply same for all data check hist dig or boxplot to check bell curve.\n",
    " "
   ]
  },
  {
   "cell_type": "code",
   "execution_count": 3,
   "metadata": {},
   "outputs": [
    {
     "ename": "SyntaxError",
     "evalue": "invalid syntax (4033651609.py, line 6)",
     "output_type": "error",
     "traceback": [
      "\u001b[1;36m  Input \u001b[1;32mIn [3]\u001b[1;36m\u001b[0m\n\u001b[1;33m    import scipy.stats import shapiro\u001b[0m\n\u001b[1;37m                       ^\u001b[0m\n\u001b[1;31mSyntaxError\u001b[0m\u001b[1;31m:\u001b[0m invalid syntax\n"
     ]
    }
   ],
   "source": [
    "import pandas as pd\n",
    "import numpy as np\n",
    "from numpy import random\n",
    "import matplotlib.pyplot as plt\n",
    "import seaborn as sns\n",
    "import scipy.stats import shapiro\n",
    "x=np.random.random()  \n",
    "x"
   ]
  },
  {
   "cell_type": "code",
   "execution_count": 5,
   "metadata": {},
   "outputs": [
    {
     "data": {
      "text/plain": [
       "0.8835040330886841"
      ]
     },
     "execution_count": 5,
     "metadata": {},
     "output_type": "execute_result"
    }
   ],
   "source": [
    "import pandas as pd\n",
    "import numpy as np\n",
    "from numpy import random\n",
    "import matplotlib.pyplot as plt\n",
    "import seaborn as sns\n",
    "from scipy.stats import shapiro\n",
    "data=[0.245,-1.2361,2.103,3.012,1.554,0.964,1.234,5.124,9.101,-1.234]\n",
    "stat,p =shapiro(data)\n",
    "stat"
   ]
  },
  {
   "cell_type": "code",
   "execution_count": null,
   "metadata": {},
   "outputs": [],
   "source": [
    "p"
   ]
  },
  {
   "cell_type": "code",
   "execution_count": null,
   "metadata": {},
   "outputs": [],
   "source": [
    "print(\"The stat value:\",stat)"
   ]
  },
  {
   "cell_type": "code",
   "execution_count": 6,
   "metadata": {},
   "outputs": [
    {
     "name": "stdout",
     "output_type": "stream",
     "text": [
      "The P value: 0.1431216150522232\n"
     ]
    }
   ],
   "source": [
    "print(\"The P value:\",p)"
   ]
  },
  {
   "cell_type": "code",
   "execution_count": null,
   "metadata": {},
   "outputs": [],
   "source": [
    "# if p<0.5:\n",
    "#     print(\" Data is gaussian or normal\")\n",
    "# else:\n",
    "#     print(\"Data is not Normal or gussian\")"
   ]
  },
  {
   "cell_type": "code",
   "execution_count": 7,
   "metadata": {},
   "outputs": [],
   "source": [
    "ks=sns.load_dataset(\"titanic\")"
   ]
  },
  {
   "cell_type": "code",
   "execution_count": 8,
   "metadata": {},
   "outputs": [
    {
     "data": {
      "text/plain": [
       "<AxesSubplot:>"
      ]
     },
     "execution_count": 8,
     "metadata": {},
     "output_type": "execute_result"
    },
    {
     "data": {
      "image/png": "[encoded data removed]",
      "text/plain": [
       "<Figure size 432x288 with 1 Axes>"
      ]
     },
     "metadata": {
      "needs_background": "light"
     },
     "output_type": "display_data"
    }
   ],
   "source": [
    " ks[\"age\"].hist()"
   ]
  },
  {
   "cell_type": "code",
   "execution_count": 9,
   "metadata": {},
   "outputs": [
    {
     "name": "stderr",
     "output_type": "stream",
     "text": [
      "C:\\Users\\issa\\AppData\\Local\\Programs\\Python\\Python38\\lib\\site-packages\\seaborn\\_decorators.py:36: FutureWarning: Pass the following variable as a keyword arg: x. From version 0.12, the only valid positional argument will be `data`, and passing other arguments without an explicit keyword will result in an error or misinterpretation.\n",
      "  warnings.warn(\n"
     ]
    },
    {
     "data": {
      "text/plain": [
       "<AxesSubplot:xlabel='age'>"
      ]
     },
     "execution_count": 9,
     "metadata": {},
     "output_type": "execute_result"
    },
    {
     "data": {
      "image/png": "[encoded data removed]",
      "text/plain": [
       "<Figure size 432x288 with 1 Axes>"
      ]
     },
     "metadata": {
      "needs_background": "light"
     },
     "output_type": "display_data"
    }
   ],
   "source": [
    "sns.boxplot(ks[\"age\"])"
   ]
  },
  {
   "cell_type": "code",
   "execution_count": 10,
   "metadata": {},
   "outputs": [
    {
     "data": {
      "text/plain": [
       "1.0789998175301091e-43"
      ]
     },
     "execution_count": 10,
     "metadata": {},
     "output_type": "execute_result"
    }
   ],
   "source": [
    "stat,p =shapiro(ks[\"fare\"])\n",
    "p\n"
   ]
  },
  {
   "cell_type": "code",
   "execution_count": 11,
   "metadata": {},
   "outputs": [
    {
     "ename": "NameError",
     "evalue": "name 'x' is not defined",
     "output_type": "error",
     "traceback": [
      "\u001b[1;31m---------------------------------------------------------------------------\u001b[0m",
      "\u001b[1;31mNameError\u001b[0m                                 Traceback (most recent call last)",
      "\u001b[1;32mc:\\Users\\issa\\Desktop\\Stat_Test_In_Python\\stat_test.ipynb Cell 13'\u001b[0m in \u001b[0;36m<module>\u001b[1;34m\u001b[0m\n\u001b[1;32m----> <a href='vscode-notebook-cell:/c%3A/Users/issa/Desktop/Stat_Test_In_Python/stat_test.ipynb#ch0000012?line=0'>1</a>\u001b[0m \u001b[39mif\u001b[39;00m x\u001b[39m>\u001b[39m\u001b[39m0.05\u001b[39m:\n\u001b[0;32m      <a href='vscode-notebook-cell:/c%3A/Users/issa/Desktop/Stat_Test_In_Python/stat_test.ipynb#ch0000012?line=1'>2</a>\u001b[0m     \u001b[39mprint\u001b[39m(\u001b[39m\"\u001b[39m\u001b[39m Data is gaussian or normal\u001b[39m\u001b[39m\"\u001b[39m)\n\u001b[0;32m      <a href='vscode-notebook-cell:/c%3A/Users/issa/Desktop/Stat_Test_In_Python/stat_test.ipynb#ch0000012?line=2'>3</a>\u001b[0m \u001b[39melse\u001b[39;00m:\n",
      "\u001b[1;31mNameError\u001b[0m: name 'x' is not defined"
     ]
    }
   ],
   "source": [
    "if x>0.05:\n",
    "    print(\" Data is gaussian or normal\")\n",
    "else:\n",
    "    print(\"Data is not Normal or gussian\")"
   ]
  },
  {
   "cell_type": "code",
   "execution_count": 12,
   "metadata": {},
   "outputs": [
    {
     "data": {
      "text/plain": [
       "<AxesSubplot:>"
      ]
     },
     "execution_count": 12,
     "metadata": {},
     "output_type": "execute_result"
    },
    {
     "data": {
      "image/png": "[encoded data removed]",
      "text/plain": [
       "<Figure size 432x288 with 1 Axes>"
      ]
     },
     "metadata": {
      "needs_background": "light"
     },
     "output_type": "display_data"
    }
   ],
   "source": [
    "ks[\"fare\"].hist()"
   ]
  },
  {
   "cell_type": "code",
   "execution_count": 13,
   "metadata": {},
   "outputs": [],
   "source": [
    "ks_drop=ks.dropna()"
   ]
  },
  {
   "cell_type": "code",
   "execution_count": 14,
   "metadata": {},
   "outputs": [
    {
     "name": "stdout",
     "output_type": "stream",
     "text": [
      "The stat and p value are : 0.9906661510467529 0.28414419293403625\n",
      "Data is not Normal or gussian\n"
     ]
    }
   ],
   "source": [
    "stat,p =shapiro(ks_drop[\"age\"])\n",
    "print(\"The stat and p value are :\",stat ,p)\n",
    "m=p\n",
    "if m>0.5:\n",
    "    print(\" Data is gaussian or normal\")\n",
    "else:\n",
    "    print(\"Data is not Normal or gussian\")"
   ]
  },
  {
   "cell_type": "code",
   "execution_count": 15,
   "metadata": {},
   "outputs": [
    {
     "name": "stderr",
     "output_type": "stream",
     "text": [
      "C:\\Users\\issa\\AppData\\Local\\Programs\\Python\\Python38\\lib\\site-packages\\seaborn\\_decorators.py:36: FutureWarning: Pass the following variable as a keyword arg: x. From version 0.12, the only valid positional argument will be `data`, and passing other arguments without an explicit keyword will result in an error or misinterpretation.\n",
      "  warnings.warn(\n"
     ]
    },
    {
     "data": {
      "text/plain": [
       "<AxesSubplot:xlabel='age'>"
      ]
     },
     "execution_count": 15,
     "metadata": {},
     "output_type": "execute_result"
    },
    {
     "data": {
      "image/png": "[encoded data removed]",
      "text/plain": [
       "<Figure size 432x288 with 1 Axes>"
      ]
     },
     "metadata": {
      "needs_background": "light"
     },
     "output_type": "display_data"
    }
   ],
   "source": [
    "sns.boxplot(ks_drop[\"age\"])"
   ]
  },
  {
   "cell_type": "markdown",
   "metadata": {},
   "source": [
    "# 2- Correlation  test\n",
    "> Pearson correlation coffient \n",
    "\n",
    "- Test whether two sampels has linear relatonship\n",
    "\n",
    "\n",
    "> Assumpsion \n",
    "\n",
    "-  Observation in each sample are independent and indentically distributed \n",
    "-  Observation in each sample are normally distributed \n",
    "-  Observation in each sample have the same varrience \n",
    "-  Interpretation \n",
    "\n",
    "- [ ] H0  The two samples are independent .\n",
    "- [ ] H1  There is a depandency between samples .\n",
    "\n",
    "\n",
    "\n",
    "  \n",
    "\n"
   ]
  },
  {
   "cell_type": "code",
   "execution_count": 16,
   "metadata": {},
   "outputs": [
    {
     "name": "stdout",
     "output_type": "stream",
     "text": [
      "The stat and p value are : -0.09073036394094937 0.223185916258614\n",
      "dependent\n"
     ]
    }
   ],
   "source": [
    "from scipy.stats import pearsonr\n",
    "stat,p =pearsonr(ks_drop[\"age\"],ks_drop[\"fare\"])\n",
    "print(\"The stat and p value are :\",stat ,p)\n",
    "m=p\n",
    "if m>0.5:\n",
    "    print(\" independent \")\n",
    "else:\n",
    "    print(\"dependent\")\n"
   ]
  },
  {
   "cell_type": "markdown",
   "metadata": {},
   "source": [
    "# Chi - Squared Test \n",
    "\n",
    "> Test whether two categorical variables are related or independent \n",
    "\n",
    "*** Assumption ***\n",
    "- observation used in the calcuation of the contigency table are independent 25 or move example in each cell of the contigency table interpretation \n",
    "\n",
    "* H0 : the two samples are independent \n",
    "* H1 : there is a dependency in sample "
   ]
  },
  {
   "cell_type": "code",
   "execution_count": 18,
   "metadata": {},
   "outputs": [
    {
     "ename": "SyntaxError",
     "evalue": "invalid syntax (433951439.py, line 4)",
     "output_type": "error",
     "traceback": [
      "\u001b[1;36m  Input \u001b[1;32mIn [18]\u001b[1;36m\u001b[0m\n\u001b[1;33m    stat,p= chisquare(table)\u001b[0m\n\u001b[1;37m    ^\u001b[0m\n\u001b[1;31mSyntaxError\u001b[0m\u001b[1;31m:\u001b[0m invalid syntax\n"
     ]
    }
   ],
   "source": [
    "# example of chi squared test \n",
    "from scipy.stats import chisquare\n",
    "table = [[10,20,30],[6,9,17]\n",
    "stat,p= chisquare(table)\n",
    "stat\n",
    "p\n",
    "if m>0.5:\n",
    "    print(\" independent \")\n",
    "else:\n",
    "    print(\"dependent\")"
   ]
  },
  {
   "cell_type": "markdown",
   "metadata": {},
   "source": [
    "# Chi Parametrical Statical Hypothesis Test\n",
    "\n",
    "> Student Test\n",
    "\n",
    "- whether the means of two independent samples are significantly diffrent .\n",
    "\n",
    "*** Assumption ***\n",
    "-  Observation in each sample are independent and indentically distributed \n",
    "-  Observation in each sample are normally distributed \n",
    "-  Observation in each sample have the same varrience \n",
    "-  Interpretation \n",
    "\n",
    "- [ ] H0  The two samples are independent .\n",
    "- [ ] H1  There is a depandency between samples ."
   ]
  },
  {
   "cell_type": "code",
   "execution_count": 25,
   "metadata": {},
   "outputs": [
    {
     "name": "stdout",
     "output_type": "stream",
     "text": [
      "probably the diffrent data set\n"
     ]
    },
    {
     "data": {
      "text/plain": [
       "0.4555509075681582"
      ]
     },
     "execution_count": 25,
     "metadata": {},
     "output_type": "execute_result"
    }
   ],
   "source": [
    "from scipy.stats import ttest_ind\n",
    "data1=[0.457,7.2361,-.103,3.012,3.554,-0.964,0.234,1.124,9.101,9.234]\n",
    "data2=[0.245,-1.2361,2.103,3.012,1.554,0.964,1.234,5.124,9.101,-1.234]\n",
    "stat,p =ttest_ind(data1,data2)\n",
    "p\n",
    "\n",
    "if p>0.5:\n",
    "    print(\" probably the same data set \")\n",
    "else:\n",
    "    print(\"probably the diffrent data set\")\n",
    "p"
   ]
  },
  {
   "cell_type": "code",
   "execution_count": 27,
   "metadata": {},
   "outputs": [
    {
     "name": "stdout",
     "output_type": "stream",
     "text": [
      "probably the diffrent data set\n"
     ]
    }
   ],
   "source": [
    "# related data set \n",
    "from scipy.stats import ttest_rel\n",
    "data1=[0.457,7.2361,-.103,3.012,3.554,-0.964,0.234,1.124,9.101,9.234]\n",
    "data2=[0.245,-1.2361,2.103,3.012,1.554,0.964,1.234,5.124,9.101,-1.234]\n",
    "stat,p =ttest_rel(data1,data2)\n",
    "p\n",
    "\n",
    "if p>0.5:\n",
    "    print(\" probably the same data set \")\n",
    "else:\n",
    "    print(\"probably the diffrent data set\")\n"
   ]
  },
  {
   "cell_type": "markdown",
   "metadata": {},
   "source": [
    "# ANOVA Analysis of varience \n",
    "\n",
    "> Test whether the means of two or more independent variable are significantly diffrent .\n",
    "\n",
    "\n",
    "*** Assumption ***\n",
    "-  Observation in each sample are independent and indentically distributed \n",
    "-  Observation in each sample are normally distributed \n",
    "-  Observation in each sample have the same varrience \n",
    "-  Interpretation \n",
    "\n",
    "- [ ] H0  The two samples are independent .\n",
    "- [ ] H1  There is a depandency between samples ."
   ]
  },
  {
   "cell_type": "code",
   "execution_count": 31,
   "metadata": {},
   "outputs": [
    {
     "name": "stdout",
     "output_type": "stream",
     "text": [
      " probably the same data set \n"
     ]
    },
    {
     "data": {
      "text/plain": [
       "0.5491667204841264"
      ]
     },
     "execution_count": 31,
     "metadata": {},
     "output_type": "execute_result"
    }
   ],
   "source": [
    "# Example of ANOVA\n",
    "from scipy.stats import f_oneway\n",
    "data1=[0.457,7.2361,-.103,3.012,3.554,-0.964,0.234,1.124,9.101,9.234]\n",
    "data2=[0.245,-1.2361,2.103,3.012,1.554,0.964,1.234,5.124,9.101,-1.234]\n",
    "data3=[-1.234,1.005,-7.103,6.012,5.554,9.964,-1.234,2.124,1.101,-3.234]\n",
    "stat,p = f_oneway(data1,data2,data3)\n",
    "p\n",
    "\n",
    "if p>0.5:\n",
    "    print(\" probably the same data set \")\n",
    "else:\n",
    "    print(\"probably the diffrent data set\")\n",
    "p"
   ]
  },
  {
   "cell_type": "markdown",
   "metadata": {},
   "source": [
    "# After performing ANOVA\n",
    "*** Other test can be performed ***\n",
    "\n",
    "\n",
    "> post hock test \n",
    "\n",
    "\n",
    "\n",
    "> tuckey test \n",
    "\n",
    "\n",
    "\n",
    "> Bon ferony test \n",
    "\n",
    "\n",
    "DoF degree of freedom "
   ]
  },
  {
   "cell_type": "markdown",
   "metadata": {},
   "source": []
  }
 ],
 "metadata": {
  "interpreter": {
   "hash": "0a02ee646c8ad2dd595e5341b6f477eb50ac789689ed638f7c72990585c4481e"
  },
  "kernelspec": {
   "display_name": "Python 3.8.9 64-bit",
   "language": "python",
   "name": "python3"
  },
  "language_info": {
   "codemirror_mode": {
    "name": "ipython",
    "version": 3
   },
   "file_extension": ".py",
   "mimetype": "text/x-python",
   "name": "python",
   "nbconvert_exporter": "python",
   "pygments_lexer": "ipython3",
   "version": "3.8.9"
  },
  "orig_nbformat": 4
 },
 "nbformat": 4,
 "nbformat_minor": 2
}
